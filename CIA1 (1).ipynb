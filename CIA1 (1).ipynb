{
 "cells": [
  {
   "cell_type": "code",
   "execution_count": 18,
   "id": "92698295",
   "metadata": {},
   "outputs": [],
   "source": [
    "s1 = \"ATCGTAGCTCGACGTA\"\n",
    "s2 = \"ACTGGCAAGCTCGTTA\"\n",
    "import numpy as np"
   ]
  },
  {
   "cell_type": "code",
   "execution_count": 20,
   "id": "298b7675",
   "metadata": {},
   "outputs": [
    {
     "name": "stdout",
     "output_type": "stream",
     "text": [
      "[[ 5  0 -4 -4 -4 -4  5  5  0 -4 -4 -4 -4 -4 -4  5]\n",
      " [-4 -4  5  0 -4 -4 -4 -4 -4 -4  5  0 -4  5  1  0]\n",
      " [-4  5  0 -4 -4  5  0 -4 -4  5  0  5  0 -4 -4 -4]\n",
      " [-4 -4 -4  5  1  0 -4 -4  5  0 -4 -4  5  0 -4 -4]\n",
      " [-4 -4  5  0 -4 -4 -4 -4 -4 -4  5  0 -4  5  5  0]\n",
      " [ 5  0 -4 -4 -4 -4  5  1  0 -4 -4 -4 -4 -4 -4  5]\n",
      " [-4 -4 -4  5  1  0 -4 -4  5  0 -4 -4  5  0 -4 -4]\n",
      " [-4  5  0 -4 -4  5  0 -4 -4  5  0  5  0 -4 -4 -4]\n",
      " [-4 -4  5  0 -4 -4 -4 -4 -4 -4  5  0 -4  5  1  0]\n",
      " [-4  5  0 -4 -4  5  0 -4 -4  5  0  5  0 -4 -4 -4]\n",
      " [-4 -4 -4  5  1  0 -4 -4  5  0 -4 -4  5  0 -4 -4]\n",
      " [ 1  0 -4 -4 -4 -4  5  1  0 -4 -4 -4 -4 -4 -4  5]\n",
      " [-4  5  0 -4 -4  5  0 -4 -4  5  0  5  0 -4 -4 -4]\n",
      " [-4 -4 -4  5  1  0 -4 -4  5  0 -4 -4  5  0 -4 -4]\n",
      " [-4 -4  5  0 -4 -4 -4 -4 -4 -4  5  0 -4  5  5  0]\n",
      " [ 5  0 -4 -4 -4 -4  5  1  0 -4 -4 -4 -4 -4 -4  5]]\n"
     ]
    }
   ],
   "source": [
    "mat = np.zeros([16,16],dtype=int)\n",
    "for i in range (0,len(s1)):\n",
    "    for j in range (0,len(s1)):\n",
    "        try:\n",
    "            if s1[i] == s2[j]:\n",
    "                mat[i][j] = mat[i-1][j-1] + 5\n",
    "            if s1[i] != s2[j-1]:\n",
    "                a = matrix[i][j-1] -4\n",
    "                b = matrix[i-1][j] -4 \n",
    "                c = matrix[i-1][j-1] - 4\n",
    "                mat[i][j] = max(a,b,c)\n",
    "        except:\n",
    "            if s1[i] == s2[j]:\n",
    "                mat[i][j] = 0+5\n",
    "            if s1[i] != s2[j]:\n",
    "                a = 0 -4\n",
    "                b = 0 -4 \n",
    "                c = 0 - 4\n",
    "                mat[i][j] = max(a,b,c)\n",
    "print(mat)"
   ]
  },
  {
   "cell_type": "code",
   "execution_count": null,
   "id": "b4653bcb",
   "metadata": {},
   "outputs": [],
   "source": []
  }
 ],
 "metadata": {
  "kernelspec": {
   "display_name": "Python 3 (ipykernel)",
   "language": "python",
   "name": "python3"
  },
  "language_info": {
   "codemirror_mode": {
    "name": "ipython",
    "version": 3
   },
   "file_extension": ".py",
   "mimetype": "text/x-python",
   "name": "python",
   "nbconvert_exporter": "python",
   "pygments_lexer": "ipython3",
   "version": "3.9.7"
  }
 },
 "nbformat": 4,
 "nbformat_minor": 5
}
